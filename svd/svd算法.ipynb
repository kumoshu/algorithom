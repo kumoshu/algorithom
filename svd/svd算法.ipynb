{
 "cells": [
  {
   "cell_type": "code",
   "execution_count": 1,
   "metadata": {},
   "outputs": [],
   "source": [
    "import numpy as np\n",
    "import pandas as pd\n",
    "import matplotlib.pyplot as plt"
   ]
  },
  {
   "cell_type": "markdown",
   "metadata": {},
   "source": [
    "#### svd的优缺点\n",
    "    简化数据，去除噪声和冗余信息，提高算法的结果，数据的转化难以理解"
   ]
  },
  {
   "cell_type": "markdown",
   "metadata": {},
   "source": [
    "基本理论知识：\n",
    "  矩阵分解是将原始的矩阵表示为新的易于处理的形式，有两个或者多个矩阵相乘  \n",
    "$Data = U_{matrix}\\sum_{matrix} V_{matrix}^T$   \n",
    "$\\sum$只是一个对角矩阵，对角元素称为奇异值，为$Data*Data^T$的特征值的平方根"
   ]
  },
  {
   "cell_type": "code",
   "execution_count": 2,
   "metadata": {},
   "outputs": [],
   "source": [
    "u,sigma,vt = np.linalg.svd([[1,1],[7,7]])"
   ]
  },
  {
   "cell_type": "code",
   "execution_count": 3,
   "metadata": {
    "collapsed": true
   },
   "outputs": [],
   "source": [
    "np.set_printoptions(precision=4)"
   ]
  },
  {
   "cell_type": "code",
   "execution_count": 4,
   "metadata": {},
   "outputs": [
    {
     "data": {
      "text/plain": [
       "array([[-0.1414, -0.9899],\n",
       "       [-0.9899,  0.1414]])"
      ]
     },
     "execution_count": 4,
     "metadata": {},
     "output_type": "execute_result"
    }
   ],
   "source": [
    "u"
   ]
  },
  {
   "cell_type": "code",
   "execution_count": 5,
   "metadata": {},
   "outputs": [
    {
     "data": {
      "text/plain": [
       "array([  1.0000e+01,   2.8280e-16])"
      ]
     },
     "execution_count": 5,
     "metadata": {},
     "output_type": "execute_result"
    }
   ],
   "source": [
    "sigma"
   ]
  },
  {
   "cell_type": "code",
   "execution_count": 7,
   "metadata": {
    "collapsed": true
   },
   "outputs": [],
   "source": [
    "data = np.array([[1,1,1,0,0],\n",
    "                [2,2,2,0,0],\n",
    "                [1,1,1,0,0],\n",
    "                [5,5,5,0,0],\n",
    "                [1,1,0,2,2],\n",
    "                [0,0,0,3,3],\n",
    "                [0,0,0,1,1]])"
   ]
  },
  {
   "cell_type": "code",
   "execution_count": 8,
   "metadata": {
    "collapsed": true
   },
   "outputs": [],
   "source": [
    "u,sigma,vt = np.linalg.svd(data)"
   ]
  },
  {
   "cell_type": "code",
   "execution_count": 9,
   "metadata": {},
   "outputs": [
    {
     "data": {
      "text/plain": [
       "array([  9.7214e+00,   5.2940e+00,   6.8423e-01,   4.1150e-16,   1.3603e-16])"
      ]
     },
     "execution_count": 9,
     "metadata": {},
     "output_type": "execute_result"
    }
   ],
   "source": [
    "sigma#最后两个值太小，可能结果不相同，可以当0看待"
   ]
  },
  {
   "cell_type": "code",
   "execution_count": 10,
   "metadata": {},
   "outputs": [],
   "source": [
    "#去掉sigma后面两个特别小的值，尽量保证保留的simga平方和值占总值的90%以上\n",
    "sigma3 = np.mat([[sigma[0],0,0],\n",
    "                [0,sigma[1],0],\n",
    "                [0,0,sigma[2]]])"
   ]
  },
  {
   "cell_type": "code",
   "execution_count": 11,
   "metadata": {},
   "outputs": [],
   "source": [
    "new_data = u[:,:3].dot(sigma3).dot(vt[:3,:])#完成数据SVD转化，去除噪声和冗余信息"
   ]
  },
  {
   "cell_type": "code",
   "execution_count": 12,
   "metadata": {
    "scrolled": true
   },
   "outputs": [
    {
     "data": {
      "text/plain": [
       "matrix([[  1.0000e+00,   1.0000e+00,   1.0000e+00,   7.7599e-16,\n",
       "           7.7159e-16],\n",
       "        [  2.0000e+00,   2.0000e+00,   2.0000e+00,   3.0051e-16,\n",
       "           2.7783e-16],\n",
       "        [  1.0000e+00,   1.0000e+00,   1.0000e+00,   2.1898e-16,\n",
       "           2.0763e-16],\n",
       "        [  5.0000e+00,   5.0000e+00,   5.0000e+00,   3.0068e-17,\n",
       "          -1.2870e-17],\n",
       "        [  1.0000e+00,   1.0000e+00,  -5.4840e-16,   2.0000e+00,\n",
       "           2.0000e+00],\n",
       "        [  3.2132e-16,   4.4356e-16,  -3.4897e-16,   3.0000e+00,\n",
       "           3.0000e+00],\n",
       "        [  9.7145e-17,   1.4572e-16,  -1.5266e-16,   1.0000e+00,\n",
       "           1.0000e+00]])"
      ]
     },
     "execution_count": 12,
     "metadata": {},
     "output_type": "execute_result"
    }
   ],
   "source": [
    "new_data"
   ]
  },
  {
   "cell_type": "code",
   "execution_count": 13,
   "metadata": {},
   "outputs": [],
   "source": [
    "#协同过滤的推荐算法：通过用户和其他用户的数据的对比来实现推荐。方法：通过用户对物品的评分来计算物品之间相识度，不关注物品的属性。\n",
    "#相似度=1/(1+距离)或者皮尔逊相关系数，取值【-1,1】，通过0.5+0.5*personr归一化，对评分的量级不敏感或者余弦显示性，取值也是【-1,1】\n",
    "def ecludian_similarity(a,b):\n",
    "    return 1 / (1 + np.linalg.norm((a-b),ord=2))#norm计算l2范数，参数ord定义范数类型\n",
    "def pearson_similarity(a,b):\n",
    "    if len(a) <3:\n",
    "        return 1.0\n",
    "    return 0.5 + 0.5*np.corrcoef(a,b)[0][1]\n",
    "def cosin_similarity(a,b):#sklearn中有实现 from sklearn.metrics.pairwis import cosine_similarity\n",
    "    return 0.5 + 0.5*float(np.dot(a,b)) / (np.linalg.norm(a)*np.linalg.norm(b))"
   ]
  },
  {
   "cell_type": "code",
   "execution_count": 14,
   "metadata": {},
   "outputs": [
    {
     "data": {
      "text/plain": [
       "array([[1, 1, 1, 0, 0],\n",
       "       [2, 2, 2, 0, 0],\n",
       "       [1, 1, 1, 0, 0],\n",
       "       [5, 5, 5, 0, 0],\n",
       "       [1, 1, 0, 2, 2],\n",
       "       [0, 0, 0, 3, 3],\n",
       "       [0, 0, 0, 1, 1]])"
      ]
     },
     "execution_count": 14,
     "metadata": {},
     "output_type": "execute_result"
    }
   ],
   "source": [
    "data"
   ]
  },
  {
   "cell_type": "code",
   "execution_count": 15,
   "metadata": {},
   "outputs": [
    {
     "data": {
      "text/plain": [
       "0.13367660240019172"
      ]
     },
     "execution_count": 15,
     "metadata": {},
     "output_type": "execute_result"
    }
   ],
   "source": [
    "ecludian_similarity(data[:,0],data[:,4])"
   ]
  },
  {
   "cell_type": "code",
   "execution_count": 16,
   "metadata": {},
   "outputs": [
    {
     "data": {
      "text/plain": [
       "1.0"
      ]
     },
     "execution_count": 16,
     "metadata": {},
     "output_type": "execute_result"
    }
   ],
   "source": [
    "ecludian_similarity(data[:,0],data[:,0])"
   ]
  },
  {
   "cell_type": "code",
   "execution_count": 17,
   "metadata": {},
   "outputs": [
    {
     "data": {
      "text/plain": [
       "(0.54724555912615336, 0.99999999999999989)"
      ]
     },
     "execution_count": 17,
     "metadata": {},
     "output_type": "execute_result"
    }
   ],
   "source": [
    "cosin_similarity(data[:,0],data[:,4]),cosin_similarity(data[:,0],data[:,0])"
   ]
  },
  {
   "cell_type": "code",
   "execution_count": 18,
   "metadata": {},
   "outputs": [
    {
     "data": {
      "text/plain": [
       "(0.23768619407595815, 1.0)"
      ]
     },
     "execution_count": 18,
     "metadata": {},
     "output_type": "execute_result"
    }
   ],
   "source": [
    "pearson_similarity(data[:,0],data[:,4]),pearson_similarity(data[:,0],data[:,0])"
   ]
  },
  {
   "cell_type": "code",
   "execution_count": 19,
   "metadata": {},
   "outputs": [
    {
     "data": {
      "text/plain": [
       "array([[1, 1, 1, 0, 0],\n",
       "       [2, 2, 2, 0, 0],\n",
       "       [1, 1, 1, 0, 0],\n",
       "       [5, 5, 5, 0, 0],\n",
       "       [1, 1, 0, 2, 2],\n",
       "       [0, 0, 0, 3, 3],\n",
       "       [0, 0, 0, 1, 1]])"
      ]
     },
     "execution_count": 19,
     "metadata": {},
     "output_type": "execute_result"
    }
   ],
   "source": [
    "data"
   ]
  },
  {
   "cell_type": "code",
   "execution_count": 20,
   "metadata": {
    "scrolled": false
   },
   "outputs": [],
   "source": [
    "#推荐系统的评价，模型已经的评分进行预测，计算预测值和真实评分的差异。\n",
    "def goods_estimator(data_mat,similarity_measure,user,item):\n",
    "    '''\n",
    "    基于商品的评估系统\n",
    "    '''\n",
    "    n = data_mat.shape[1]\n",
    "    similarity_sum = 0\n",
    "    rank_similarity_total = 0\n",
    "    for i in range(n):\n",
    "        user_rank = data_mat[user,i]\n",
    "        #print(user_rank)\n",
    "        if user_rank == 0:\n",
    "            continue#没有评分跳过\n",
    "        two_rank = np.nonzero(np.logical_and(data_mat[:,item]>0,data_mat[:,i]>0))[0]#一个商品我和某些人做评价了，在看看另外一个商品\n",
    "        #我和这些人是否也做了评价\n",
    "        if len(two_rank) == 0:#如果都没做评价，那么这个商品和另外一个商品的的相似度为0\n",
    "            similarity = 0\n",
    "        else:#计算相似度\n",
    "            similarity = similarity_measure(data_mat[two_rank,i],data_mat[two_rank,item])\n",
    "        print('the {} adn {} similarity is:{}'.format(i,item,similarity))\n",
    "        similarity_sum += similarity\n",
    "        rank_similarity_total += similarity * user_rank\n",
    "    if similarity_sum == 0:\n",
    "        return 0\n",
    "    else:\n",
    "        return rank_similarity_total / similarity_sum\n",
    "\n",
    "def recommend(data_mat,user,score_estimator,recommend_num=3,similarity_measure=cosin_similarity):  \n",
    "    estimate_scores = []\n",
    "    not_rank_itme = np.nonzero([data_mat[user,:] == 0])[1]#np.nonzero函数返回的是元祖对象，元祖的个数与对象维度相关\n",
    "    if len(not_rank_itme) == 0:\n",
    "        print('all goods you have taste!!')\n",
    "    else:\n",
    "        for item in not_rank_itme:\n",
    "            estimate_score = score_estimator(data_mat,similarity_measure,user,item)\n",
    "            estimate_scores.append((estimate_score,item))\n",
    "        return sorted(estimate_scores,reverse=True)[:recommend_num]\n",
    "\n",
    "     "
   ]
  },
  {
   "cell_type": "code",
   "execution_count": 21,
   "metadata": {
    "scrolled": true
   },
   "outputs": [
    {
     "name": "stdout",
     "output_type": "stream",
     "text": [
      "the 0 adn 1 similarity is:1.0\n",
      "the 3 adn 1 similarity is:0.928746462856272\n",
      "the 4 adn 1 similarity is:1.0\n",
      "the 0 adn 2 similarity is:1.0\n",
      "the 3 adn 2 similarity is:1.0\n",
      "the 4 adn 2 similarity is:0\n"
     ]
    },
    {
     "data": {
      "text/plain": [
       "[(2.5, 2), (2.0243290220056256, 1)]"
      ]
     },
     "execution_count": 21,
     "metadata": {},
     "output_type": "execute_result"
    }
   ],
   "source": [
    "data_mat = np.array([[4,4,0,2,2],\n",
    "                    [4,0,0,3,3],\n",
    "                    [4,0,0,1,1],\n",
    "                    [1,1,1,2,0],\n",
    "                    [2,2,2,0,0],\n",
    "                    [1,1,1,0,0],\n",
    "                    [5,5,5,0,0]])\n",
    "recommend(data_mat,2,score_estimator=goods_estimator)"
   ]
  },
  {
   "cell_type": "code",
   "execution_count": 22,
   "metadata": {
    "collapsed": true
   },
   "outputs": [],
   "source": [
    "def loadExData2():\n",
    "    return[[0, 0, 0, 0, 0, 4, 0, 0, 0, 0, 5],\n",
    "           [0, 0, 0, 3, 0, 4, 0, 0, 0, 0, 3],\n",
    "           [0, 0, 0, 0, 4, 0, 0, 1, 0, 4, 0],\n",
    "           [3, 3, 4, 0, 0, 0, 0, 2, 2, 0, 0],\n",
    "           [5, 4, 5, 0, 0, 0, 0, 5, 5, 0, 0],\n",
    "           [0, 0, 0, 0, 5, 0, 1, 0, 0, 5, 0],\n",
    "           [4, 3, 4, 0, 0, 0, 0, 5, 5, 0, 1],\n",
    "           [0, 0, 0, 4, 0, 4, 0, 0, 0, 0, 4],\n",
    "           [0, 0, 0, 2, 0, 2, 5, 0, 0, 1, 2],\n",
    "           [0, 0, 0, 0, 5, 0, 0, 0, 0, 4, 0],\n",
    "           [1, 0, 0, 0, 0, 0, 0, 1, 2, 0, 0]]\n",
    "    "
   ]
  },
  {
   "cell_type": "code",
   "execution_count": 23,
   "metadata": {},
   "outputs": [],
   "source": [
    "def svd_estimator(data_mat,similarity_measure,user,item):\n",
    "    '''\n",
    "    构建svd推荐评估函数\n",
    "    '''\n",
    "    n = np.array(data_mat).shape[1]\n",
    "    similarity_sum = 0;rank_similarity_sum=0\n",
    "    u,sigma,vt = np.linalg.svd(data_mat)\n",
    "    sigma4 = np.eye(4)*sigma[:4]\n",
    "    data_svd = u[:,:4].dot(sigma4).dot(vt[:4,:])\n",
    "    for i in range(n):\n",
    "        user_rank = data_mat[user,i]\n",
    "        #print(user_rank)\n",
    "        if user_rank == 0 or i==item: continue\n",
    "        similarity = similarity_measure(data_svd[item],data_svd[i])\n",
    "        print('the {} adn {} similarity is:{}'.format(i,item,similarity))\n",
    "        similarity_sum += similarity\n",
    "        rank_similarity_sum += similarity * user_rank\n",
    "    if similarity_sum == 0:\n",
    "        return 0\n",
    "    else:\n",
    "        return rank_similarity_sum / similarity_sum\n",
    "\n"
   ]
  },
  {
   "cell_type": "code",
   "execution_count": 24,
   "metadata": {},
   "outputs": [],
   "source": [
    "data_mat = np.array(data_mat)"
   ]
  },
  {
   "cell_type": "code",
   "execution_count": 40,
   "metadata": {
    "scrolled": true
   },
   "outputs": [
    {
     "name": "stdout",
     "output_type": "stream",
     "text": [
      "the 0 adn 4 similarity is:0.8653402942171653\n",
      "the 1 adn 4 similarity is:0.6981114454772286\n",
      "the 2 adn 4 similarity is:0.7760939509161997\n",
      "the 3 adn 4 similarity is:0.8365022579871264\n"
     ]
    },
    {
     "data": {
      "text/plain": [
       "[(1.2633783467773074, 4)]"
      ]
     },
     "execution_count": 40,
     "metadata": {},
     "output_type": "execute_result"
    }
   ],
   "source": [
    "recommend(data_mat,4,score_estimator=svd_estimator,recommend_num=3,similarity_measure=cosin_similarity)"
   ]
  },
  {
   "cell_type": "code",
   "execution_count": 41,
   "metadata": {
    "scrolled": true
   },
   "outputs": [
    {
     "name": "stdout",
     "output_type": "stream",
     "text": [
      "the 0 adn 3 similarity is:0.9377327693059581\n",
      "the 1 adn 3 similarity is:0.928746462856272\n",
      "the 2 adn 3 similarity is:1.0\n",
      "the 0 adn 4 similarity is:0.9629100498862757\n",
      "the 1 adn 4 similarity is:1.0\n",
      "the 2 adn 4 similarity is:0\n"
     ]
    },
    {
     "data": {
      "text/plain": [
       "[(2.0, 4), (2.0, 3)]"
      ]
     },
     "execution_count": 41,
     "metadata": {},
     "output_type": "execute_result"
    }
   ],
   "source": [
    "recommend(data_mat,4,score_estimator=goods_estimator,recommend_num=3,similarity_measure=cosin_similarity)"
   ]
  },
  {
   "cell_type": "code",
   "execution_count": 45,
   "metadata": {},
   "outputs": [
    {
     "data": {
      "text/plain": [
       "array([[ 0.,  0.,  0.],\n",
       "       [ 0.,  0.,  0.],\n",
       "       [ 0.,  0.,  0.]])"
      ]
     },
     "execution_count": 45,
     "metadata": {},
     "output_type": "execute_result"
    }
   ],
   "source": [
    "np.zeros([3,3])"
   ]
  }
 ],
 "metadata": {
  "kernelspec": {
   "display_name": "Python 3",
   "language": "python",
   "name": "python3"
  },
  "language_info": {
   "codemirror_mode": {
    "name": "ipython",
    "version": 3
   },
   "file_extension": ".py",
   "mimetype": "text/x-python",
   "name": "python",
   "nbconvert_exporter": "python",
   "pygments_lexer": "ipython3",
   "version": "3.6.3"
  }
 },
 "nbformat": 4,
 "nbformat_minor": 2
}
